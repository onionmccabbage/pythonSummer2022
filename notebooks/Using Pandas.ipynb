{
 "cells": [
  {
   "cell_type": "code",
   "execution_count": 2,
   "metadata": {},
   "outputs": [],
   "source": [
    "import pandas as pd\n",
    "import numpy as np\n",
    "import matplotlib.pyplot as plt"
   ]
  },
  {
   "cell_type": "code",
   "execution_count": 22,
   "metadata": {},
   "outputs": [],
   "source": [
    "# read in some data into separate DataFrames\n",
    "df_GOOGL = pd.read_excel('../Data/market_data.xls', parse_dates=True, sheet_name='GOOGL', index_col='Date')\n",
    "df_IBM = pd.read_excel('../Data/market_data.xls', parse_dates=True, sheet_name='IBM', index_col='Date')\n",
    "df_MSFT = pd.read_excel('../Data/market_data.xls', parse_dates=True, sheet_name='MSFT', index_col='Date')"
   ]
  },
  {
   "cell_type": "code",
   "execution_count": null,
   "metadata": {},
   "outputs": [],
   "source": [
    "# see the separate DataFrames\n",
    "print( df_GOOGL.head(2) ) # not a great idea\n",
    "print( df_IBM.head(2) ) # probably better just to use separate cells!!\n",
    "# only the last item is seen in the ouput\n",
    "print( df_MSFT.head(2) )"
   ]
  },
  {
   "cell_type": "code",
   "execution_count": 21,
   "metadata": {},
   "outputs": [
    {
     "data": {
      "text/html": [
       "<div>\n",
       "<style scoped>\n",
       "    .dataframe tbody tr th:only-of-type {\n",
       "        vertical-align: middle;\n",
       "    }\n",
       "\n",
       "    .dataframe tbody tr th {\n",
       "        vertical-align: top;\n",
       "    }\n",
       "\n",
       "    .dataframe thead th {\n",
       "        text-align: right;\n",
       "    }\n",
       "</style>\n",
       "<table border=\"1\" class=\"dataframe\">\n",
       "  <thead>\n",
       "    <tr style=\"text-align: right;\">\n",
       "      <th></th>\n",
       "      <th>High</th>\n",
       "      <th>Low</th>\n",
       "      <th>Open</th>\n",
       "      <th>Close</th>\n",
       "      <th>Volume</th>\n",
       "      <th>Adj Close</th>\n",
       "    </tr>\n",
       "    <tr>\n",
       "      <th>Date</th>\n",
       "      <th></th>\n",
       "      <th></th>\n",
       "      <th></th>\n",
       "      <th></th>\n",
       "      <th></th>\n",
       "      <th></th>\n",
       "    </tr>\n",
       "  </thead>\n",
       "  <tbody>\n",
       "    <tr>\n",
       "      <th>2004-08-19</th>\n",
       "      <td>52.082081</td>\n",
       "      <td>48.028027</td>\n",
       "      <td>50.050049</td>\n",
       "      <td>50.220219</td>\n",
       "      <td>44659000</td>\n",
       "      <td>50.220219</td>\n",
       "    </tr>\n",
       "    <tr>\n",
       "      <th>2004-08-20</th>\n",
       "      <td>54.594593</td>\n",
       "      <td>50.300301</td>\n",
       "      <td>50.555557</td>\n",
       "      <td>54.209209</td>\n",
       "      <td>22834300</td>\n",
       "      <td>54.209209</td>\n",
       "    </tr>\n",
       "  </tbody>\n",
       "</table>\n",
       "</div>"
      ],
      "text/plain": [
       "                 High        Low       Open      Close    Volume  Adj Close\n",
       "Date                                                                       \n",
       "2004-08-19  52.082081  48.028027  50.050049  50.220219  44659000  50.220219\n",
       "2004-08-20  54.594593  50.300301  50.555557  54.209209  22834300  54.209209"
      ]
     },
     "execution_count": 21,
     "metadata": {},
     "output_type": "execute_result"
    }
   ],
   "source": [
    "df_GOOGL.head(2)"
   ]
  },
  {
   "cell_type": "markdown",
   "metadata": {},
   "source": [
    "# Handling Dates and Times"
   ]
  },
  {
   "cell_type": "code",
   "execution_count": 30,
   "metadata": {},
   "outputs": [
    {
     "data": {
      "text/plain": [
       "High         4.039740e+02\n",
       "Low          3.984735e+02\n",
       "Open         3.992993e+02\n",
       "Close        4.034985e+02\n",
       "Volume       4.346400e+06\n",
       "Adj Close    4.034985e+02\n",
       "Name: 2013-03-01 00:00:00, dtype: float64"
      ]
     },
     "execution_count": 30,
     "metadata": {},
     "output_type": "execute_result"
    }
   ],
   "source": [
    "from datetime import datetime\n",
    "df_GOOGL.loc['2004'] # revisit .loc\n",
    "df_GOOGL['2013 march 01' : '2013 APR 01'] # this gives us from...to rows\n",
    "# possible mis-understanding\n",
    "# df_GOOGL['2013 March 01'] # fail - must use loc\n",
    "df_GOOGL.loc['2013 March 01']"
   ]
  },
  {
   "cell_type": "code",
   "execution_count": 36,
   "metadata": {},
   "outputs": [
    {
     "data": {
      "text/plain": [
       "Open    1.912809e+06\n",
       "High    1.929825e+06\n",
       "dtype: float64"
      ]
     },
     "execution_count": 36,
     "metadata": {},
     "output_type": "execute_result"
    }
   ],
   "source": [
    "df_GOOGL[['Open', 'High']].mean() # or mean() or min() or..."
   ]
  },
  {
   "cell_type": "code",
   "execution_count": 37,
   "metadata": {},
   "outputs": [
    {
     "data": {
      "text/html": [
       "<div>\n",
       "<style scoped>\n",
       "    .dataframe tbody tr th:only-of-type {\n",
       "        vertical-align: middle;\n",
       "    }\n",
       "\n",
       "    .dataframe tbody tr th {\n",
       "        vertical-align: top;\n",
       "    }\n",
       "\n",
       "    .dataframe thead th {\n",
       "        text-align: right;\n",
       "    }\n",
       "</style>\n",
       "<table border=\"1\" class=\"dataframe\">\n",
       "  <thead>\n",
       "    <tr style=\"text-align: right;\">\n",
       "      <th></th>\n",
       "      <th>High</th>\n",
       "      <th>Low</th>\n",
       "      <th>Open</th>\n",
       "      <th>Close</th>\n",
       "      <th>Volume</th>\n",
       "      <th>Adj Close</th>\n",
       "    </tr>\n",
       "  </thead>\n",
       "  <tbody>\n",
       "    <tr>\n",
       "      <th>count</th>\n",
       "      <td>3866.000000</td>\n",
       "      <td>3866.000000</td>\n",
       "      <td>3866.000000</td>\n",
       "      <td>3866.000000</td>\n",
       "      <td>3.866000e+03</td>\n",
       "      <td>3866.000000</td>\n",
       "    </tr>\n",
       "    <tr>\n",
       "      <th>mean</th>\n",
       "      <td>499.178635</td>\n",
       "      <td>490.026346</td>\n",
       "      <td>494.777298</td>\n",
       "      <td>494.699757</td>\n",
       "      <td>7.126476e+06</td>\n",
       "      <td>494.699757</td>\n",
       "    </tr>\n",
       "    <tr>\n",
       "      <th>std</th>\n",
       "      <td>344.662150</td>\n",
       "      <td>339.355516</td>\n",
       "      <td>342.031249</td>\n",
       "      <td>342.153210</td>\n",
       "      <td>8.002788e+06</td>\n",
       "      <td>342.153210</td>\n",
       "    </tr>\n",
       "    <tr>\n",
       "      <th>min</th>\n",
       "      <td>50.920921</td>\n",
       "      <td>48.028027</td>\n",
       "      <td>49.644646</td>\n",
       "      <td>50.055054</td>\n",
       "      <td>5.206000e+05</td>\n",
       "      <td>50.055054</td>\n",
       "    </tr>\n",
       "    <tr>\n",
       "      <th>25%</th>\n",
       "      <td>240.447952</td>\n",
       "      <td>235.526779</td>\n",
       "      <td>237.887894</td>\n",
       "      <td>237.753998</td>\n",
       "      <td>1.926375e+06</td>\n",
       "      <td>237.753998</td>\n",
       "    </tr>\n",
       "    <tr>\n",
       "      <th>50%</th>\n",
       "      <td>323.383392</td>\n",
       "      <td>316.026031</td>\n",
       "      <td>320.117615</td>\n",
       "      <td>320.152649</td>\n",
       "      <td>4.411200e+06</td>\n",
       "      <td>320.152649</td>\n",
       "    </tr>\n",
       "    <tr>\n",
       "      <th>75%</th>\n",
       "      <td>742.922501</td>\n",
       "      <td>730.749985</td>\n",
       "      <td>737.809982</td>\n",
       "      <td>735.844986</td>\n",
       "      <td>9.127600e+06</td>\n",
       "      <td>735.844986</td>\n",
       "    </tr>\n",
       "    <tr>\n",
       "      <th>max</th>\n",
       "      <td>1364.329956</td>\n",
       "      <td>1350.770020</td>\n",
       "      <td>1363.099976</td>\n",
       "      <td>1362.469971</td>\n",
       "      <td>8.215110e+07</td>\n",
       "      <td>1362.469971</td>\n",
       "    </tr>\n",
       "  </tbody>\n",
       "</table>\n",
       "</div>"
      ],
      "text/plain": [
       "              High          Low         Open        Close        Volume  \\\n",
       "count  3866.000000  3866.000000  3866.000000  3866.000000  3.866000e+03   \n",
       "mean    499.178635   490.026346   494.777298   494.699757  7.126476e+06   \n",
       "std     344.662150   339.355516   342.031249   342.153210  8.002788e+06   \n",
       "min      50.920921    48.028027    49.644646    50.055054  5.206000e+05   \n",
       "25%     240.447952   235.526779   237.887894   237.753998  1.926375e+06   \n",
       "50%     323.383392   316.026031   320.117615   320.152649  4.411200e+06   \n",
       "75%     742.922501   730.749985   737.809982   735.844986  9.127600e+06   \n",
       "max    1364.329956  1350.770020  1363.099976  1362.469971  8.215110e+07   \n",
       "\n",
       "         Adj Close  \n",
       "count  3866.000000  \n",
       "mean    494.699757  \n",
       "std     342.153210  \n",
       "min      50.055054  \n",
       "25%     237.753998  \n",
       "50%     320.152649  \n",
       "75%     735.844986  \n",
       "max    1362.469971  "
      ]
     },
     "execution_count": 37,
     "metadata": {},
     "output_type": "execute_result"
    }
   ],
   "source": [
    "df_GOOGL.describe()"
   ]
  },
  {
   "cell_type": "markdown",
   "metadata": {},
   "source": [
    "# Combining DataFrames"
   ]
  },
  {
   "cell_type": "code",
   "execution_count": 46,
   "metadata": {},
   "outputs": [
    {
     "data": {
      "text/html": [
       "<div>\n",
       "<style scoped>\n",
       "    .dataframe tbody tr th:only-of-type {\n",
       "        vertical-align: middle;\n",
       "    }\n",
       "\n",
       "    .dataframe tbody tr th {\n",
       "        vertical-align: top;\n",
       "    }\n",
       "\n",
       "    .dataframe thead th {\n",
       "        text-align: right;\n",
       "    }\n",
       "</style>\n",
       "<table border=\"1\" class=\"dataframe\">\n",
       "  <thead>\n",
       "    <tr style=\"text-align: right;\">\n",
       "      <th></th>\n",
       "      <th>count</th>\n",
       "      <th>mean</th>\n",
       "      <th>std</th>\n",
       "      <th>min</th>\n",
       "      <th>25%</th>\n",
       "      <th>50%</th>\n",
       "      <th>75%</th>\n",
       "      <th>max</th>\n",
       "    </tr>\n",
       "  </thead>\n",
       "  <tbody>\n",
       "    <tr>\n",
       "      <th>IBM</th>\n",
       "      <td>5028.0</td>\n",
       "      <td>6.114921e+06</td>\n",
       "      <td>3.313614e+06</td>\n",
       "      <td>1027500.0</td>\n",
       "      <td>3868675.0</td>\n",
       "      <td>5291300.0</td>\n",
       "      <td>7429350.0</td>\n",
       "      <td>41207300.0</td>\n",
       "    </tr>\n",
       "    <tr>\n",
       "      <th>MSoft</th>\n",
       "      <td>5028.0</td>\n",
       "      <td>5.535729e+07</td>\n",
       "      <td>3.159907e+07</td>\n",
       "      <td>7425600.0</td>\n",
       "      <td>33253050.0</td>\n",
       "      <td>50631850.0</td>\n",
       "      <td>68961325.0</td>\n",
       "      <td>591052200.0</td>\n",
       "    </tr>\n",
       "    <tr>\n",
       "      <th>Google</th>\n",
       "      <td>3866.0</td>\n",
       "      <td>7.126476e+06</td>\n",
       "      <td>8.002788e+06</td>\n",
       "      <td>520600.0</td>\n",
       "      <td>1926375.0</td>\n",
       "      <td>4411200.0</td>\n",
       "      <td>9127600.0</td>\n",
       "      <td>82151100.0</td>\n",
       "    </tr>\n",
       "  </tbody>\n",
       "</table>\n",
       "</div>"
      ],
      "text/plain": [
       "         count          mean           std        min         25%         50%  \\\n",
       "IBM     5028.0  6.114921e+06  3.313614e+06  1027500.0   3868675.0   5291300.0   \n",
       "MSoft   5028.0  5.535729e+07  3.159907e+07  7425600.0  33253050.0  50631850.0   \n",
       "Google  3866.0  7.126476e+06  8.002788e+06   520600.0   1926375.0   4411200.0   \n",
       "\n",
       "               75%          max  \n",
       "IBM      7429350.0   41207300.0  \n",
       "MSoft   68961325.0  591052200.0  \n",
       "Google   9127600.0   82151100.0  "
      ]
     },
     "execution_count": 46,
     "metadata": {},
     "output_type": "execute_result"
    }
   ],
   "source": [
    "df_Vol = pd.DataFrame()\n",
    "df_Vol['IBM'] = df_IBM['Volume']\n",
    "df_Vol['MSoft'] = df_MSFT['Volume']\n",
    "df_Vol['Google'] = df_GOOGL['Volume']\n",
    "df_Vol\n",
    "# see about this new df\n",
    "df_Vol.describe()\n",
    "df_Vol.shape\n",
    "df_Vol.size\n",
    "df_Vol.describe().transpose()"
   ]
  },
  {
   "cell_type": "code",
   "execution_count": 54,
   "metadata": {},
   "outputs": [
    {
     "data": {
      "text/plain": [
       "Date\n",
       "2000-01-03    10347700\n",
       "2000-01-04     8227800\n",
       "2000-01-05    12733200\n",
       "2000-01-06     7971900\n",
       "2000-01-07    11856700\n",
       "2000-01-10     8540500\n",
       "Name: IBM, dtype: int64"
      ]
     },
     "execution_count": 54,
     "metadata": {},
     "output_type": "execute_result"
    }
   ],
   "source": [
    "# loc and iloc\n",
    "df_Vol.iloc[:6, 2] # [:n, m] :n is how many rows and m is which column index"
   ]
  },
  {
   "cell_type": "code",
   "execution_count": 61,
   "metadata": {},
   "outputs": [
    {
     "data": {
      "text/html": [
       "<div>\n",
       "<style scoped>\n",
       "    .dataframe tbody tr th:only-of-type {\n",
       "        vertical-align: middle;\n",
       "    }\n",
       "\n",
       "    .dataframe tbody tr th {\n",
       "        vertical-align: top;\n",
       "    }\n",
       "\n",
       "    .dataframe thead th {\n",
       "        text-align: right;\n",
       "    }\n",
       "</style>\n",
       "<table border=\"1\" class=\"dataframe\">\n",
       "  <thead>\n",
       "    <tr style=\"text-align: right;\">\n",
       "      <th></th>\n",
       "      <th>IBM</th>\n",
       "      <th>MSoft</th>\n",
       "      <th>Google</th>\n",
       "    </tr>\n",
       "    <tr>\n",
       "      <th>Date</th>\n",
       "      <th></th>\n",
       "      <th></th>\n",
       "      <th></th>\n",
       "    </tr>\n",
       "  </thead>\n",
       "  <tbody>\n",
       "    <tr>\n",
       "      <th>2002-04-08</th>\n",
       "      <td>41207300</td>\n",
       "      <td>73389600</td>\n",
       "      <td>NaN</td>\n",
       "    </tr>\n",
       "    <tr>\n",
       "      <th>2007-06-06</th>\n",
       "      <td>30770700</td>\n",
       "      <td>38217500</td>\n",
       "      <td>15757600.0</td>\n",
       "    </tr>\n",
       "    <tr>\n",
       "      <th>2017-10-18</th>\n",
       "      <td>30490200</td>\n",
       "      <td>13300700</td>\n",
       "      <td>1279800.0</td>\n",
       "    </tr>\n",
       "    <tr>\n",
       "      <th>2000-10-18</th>\n",
       "      <td>29777800</td>\n",
       "      <td>110536400</td>\n",
       "      <td>NaN</td>\n",
       "    </tr>\n",
       "    <tr>\n",
       "      <th>2005-04-15</th>\n",
       "      <td>27906300</td>\n",
       "      <td>100251600</td>\n",
       "      <td>23131600.0</td>\n",
       "    </tr>\n",
       "    <tr>\n",
       "      <th>...</th>\n",
       "      <td>...</td>\n",
       "      <td>...</td>\n",
       "      <td>...</td>\n",
       "    </tr>\n",
       "    <tr>\n",
       "      <th>2003-12-26</th>\n",
       "      <td>1408500</td>\n",
       "      <td>12076900</td>\n",
       "      <td>NaN</td>\n",
       "    </tr>\n",
       "    <tr>\n",
       "      <th>2016-12-27</th>\n",
       "      <td>1397500</td>\n",
       "      <td>11763200</td>\n",
       "      <td>976000.0</td>\n",
       "    </tr>\n",
       "    <tr>\n",
       "      <th>2019-12-24</th>\n",
       "      <td>1202100</td>\n",
       "      <td>8989200</td>\n",
       "      <td>673400.0</td>\n",
       "    </tr>\n",
       "    <tr>\n",
       "      <th>2017-11-24</th>\n",
       "      <td>1193000</td>\n",
       "      <td>7425600</td>\n",
       "      <td>824600.0</td>\n",
       "    </tr>\n",
       "    <tr>\n",
       "      <th>2009-11-17</th>\n",
       "      <td>1027500</td>\n",
       "      <td>75648900</td>\n",
       "      <td>3829500.0</td>\n",
       "    </tr>\n",
       "  </tbody>\n",
       "</table>\n",
       "<p>5028 rows × 3 columns</p>\n",
       "</div>"
      ],
      "text/plain": [
       "                 IBM      MSoft      Google\n",
       "Date                                       \n",
       "2002-04-08  41207300   73389600         NaN\n",
       "2007-06-06  30770700   38217500  15757600.0\n",
       "2017-10-18  30490200   13300700   1279800.0\n",
       "2000-10-18  29777800  110536400         NaN\n",
       "2005-04-15  27906300  100251600  23131600.0\n",
       "...              ...        ...         ...\n",
       "2003-12-26   1408500   12076900         NaN\n",
       "2016-12-27   1397500   11763200    976000.0\n",
       "2019-12-24   1202100    8989200    673400.0\n",
       "2017-11-24   1193000    7425600    824600.0\n",
       "2009-11-17   1027500   75648900   3829500.0\n",
       "\n",
       "[5028 rows x 3 columns]"
      ]
     },
     "execution_count": 61,
     "metadata": {},
     "output_type": "execute_result"
    }
   ],
   "source": [
    "# Sorting\n",
    "other_DF = df_Vol.sort_values(by='IBM', ascending=False)\n",
    "other_DF # but this can be resource intense!!\n",
    "df_Vol\n",
    "# alternative - sort in place\n",
    "df_Vol.sort_values(by='IBM', ascending=False, inplace=True)\n",
    "df_Vol"
   ]
  },
  {
   "cell_type": "code",
   "execution_count": null,
   "metadata": {},
   "outputs": [],
   "source": []
  }
 ],
 "metadata": {
  "kernelspec": {
   "display_name": "Python 3",
   "language": "python",
   "name": "python3"
  },
  "language_info": {
   "codemirror_mode": {
    "name": "ipython",
    "version": 3
   },
   "file_extension": ".py",
   "mimetype": "text/x-python",
   "name": "python",
   "nbconvert_exporter": "python",
   "pygments_lexer": "ipython3",
   "version": "3.7.6"
  }
 },
 "nbformat": 4,
 "nbformat_minor": 4
}
